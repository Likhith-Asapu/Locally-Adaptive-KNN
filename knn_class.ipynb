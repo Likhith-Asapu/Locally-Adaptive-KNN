{
 "cells": [
  {
   "cell_type": "code",
   "execution_count": 75,
   "id": "ca7c7406",
   "metadata": {},
   "outputs": [],
   "source": [
    "import numpy as np\n",
    "import pandas as pd\n",
    "import matplotlib.pyplot as plt\n",
    "from sklearn.model_selection import train_test_split\n",
    "from collections import Counter"
   ]
  },
  {
   "cell_type": "code",
   "execution_count": 76,
   "id": "69485c18",
   "metadata": {},
   "outputs": [
    {
     "data": {
      "text/plain": [
       "battery_power      int64\n",
       "blue               int64\n",
       "clock_speed      float64\n",
       "dual_sim           int64\n",
       "fc                 int64\n",
       "four_g             int64\n",
       "int_memory         int64\n",
       "m_dep            float64\n",
       "mobile_wt          int64\n",
       "n_cores            int64\n",
       "pc                 int64\n",
       "px_height          int64\n",
       "px_width           int64\n",
       "ram                int64\n",
       "sc_h               int64\n",
       "sc_w               int64\n",
       "talk_time          int64\n",
       "three_g            int64\n",
       "touch_screen       int64\n",
       "wifi               int64\n",
       "A                float64\n",
       "B                float64\n",
       "C                float64\n",
       "D                float64\n",
       "E                  int64\n",
       "F                float64\n",
       "G                float64\n",
       "H                float64\n",
       "I                float64\n",
       "J                float64\n",
       "K                float64\n",
       "L                float64\n",
       "M                  int64\n",
       "Class_ID           int64\n",
       "dtype: object"
      ]
     },
     "execution_count": 76,
     "metadata": {},
     "output_type": "execute_result"
    }
   ],
   "source": [
    "# Load data\n",
    "dataset = pd.read_csv(\"./datasets/mobiles-wine-combined.csv\")\n",
    "# dataset = dataset.sample(frac=1)\n",
    "dataset.dtypes"
   ]
  },
  {
   "cell_type": "code",
   "execution_count": 77,
   "id": "d38a0aea",
   "metadata": {},
   "outputs": [],
   "source": [
    "# features and labels\n",
    "X = dataset.iloc[:, 0:33].values\n",
    "y = dataset.iloc[:, 33].values\n",
    "\n",
    "# Row normalization\n",
    "# for i, x in enumerate(X):\n",
    "#     minVal = np.min(x)\n",
    "#     norm_x = x - minVal\n",
    "#     maxVal = np.max(norm_x)\n",
    "#     norm_x /= maxVal\n",
    "#     X[i] = norm_x\n",
    "    \n",
    "# Column normalization\n",
    "for i in range(X.shape[1]):\n",
    "    x = X[:, i]\n",
    "    minVal = np.min(x)\n",
    "    norm_x = x - minVal\n",
    "    maxVal = np.max(norm_x)\n",
    "    norm_x /= maxVal\n",
    "    X[:, i] = norm_x\n",
    "\n",
    "# Train and Test split\n",
    "X_train, X_test, y_train, y_test = train_test_split(X, y, test_size=0.2, random_state=0)"
   ]
  },
  {
   "cell_type": "code",
   "execution_count": 78,
   "id": "f0479612",
   "metadata": {},
   "outputs": [
    {
     "data": {
      "text/plain": [
       "array([0, 1, 2, 3, 4, 5, 6])"
      ]
     },
     "execution_count": 78,
     "metadata": {},
     "output_type": "execute_result"
    }
   ],
   "source": [
    "classes = np.unique(y)\n",
    "num_classes = len(classes)\n",
    "classes"
   ]
  },
  {
   "cell_type": "markdown",
   "id": "cd96f1c8",
   "metadata": {},
   "source": [
    "## Training"
   ]
  },
  {
   "cell_type": "code",
   "execution_count": 79,
   "id": "6cfff9a1",
   "metadata": {},
   "outputs": [],
   "source": [
    "class_partitions = []\n",
    "for c in classes:\n",
    "    partition = X_train[y_train == c]\n",
    "    # partition = dataset.loc[dataset['price_range'] == 0].iloc[:, :-1].values\n",
    "    class_partitions.append(partition)"
   ]
  },
  {
   "cell_type": "code",
   "execution_count": 80,
   "id": "e94ed309",
   "metadata": {},
   "outputs": [
    {
     "data": {
      "text/plain": [
       "[13, 5, 3, 7, 17, 3, 3]"
      ]
     },
     "execution_count": 80,
     "metadata": {},
     "output_type": "execute_result"
    }
   ],
   "source": [
    "K_VALUES = [3,5,7,9,11,13,15,17,19]\n",
    "\n",
    "# Finding best k per class\n",
    "k_classes = [0 for _ in range(num_classes)]\n",
    "for i in range(num_classes):\n",
    "    data = class_partitions[i]\n",
    "    label = classes[i]\n",
    "    \n",
    "    K_values_train = Counter()\n",
    "    match = 0\n",
    "    for test_point_index, test_point in enumerate(data):\n",
    "        distances_dict = Counter()\n",
    "        class_count = Counter()\n",
    "\n",
    "        for index, train_point in enumerate(X_train):\n",
    "            distances_dict[index] = np.sum(np.square(test_point - train_point))\n",
    "\n",
    "        matched_k_list = []\n",
    "        for K in K_VALUES:\n",
    "            for point_index, point in distances_dict.most_common()[-(K + 1):-1]:\n",
    "                class_count[y_train[point_index]] += 1\n",
    "\n",
    "            if class_count.most_common(1)[0][0] == y_train[test_point_index]:\n",
    "                matched_k_list.append(K)\n",
    "                K_values_train[K] += 1\n",
    "        \n",
    "    # Taking the first best k value in case of ties\n",
    "    try:\n",
    "        k_classes[i] = K_values_train.most_common(1)[0][0]\n",
    "    except:\n",
    "        k_classes[i] = 17\n",
    "    \n",
    "k_classes"
   ]
  },
  {
   "cell_type": "markdown",
   "id": "a44eb13a",
   "metadata": {},
   "source": [
    "## Testing"
   ]
  },
  {
   "cell_type": "code",
   "execution_count": 81,
   "id": "8f99268e",
   "metadata": {},
   "outputs": [
    {
     "name": "stdout",
     "output_type": "stream",
     "text": [
      "0.4380733944954128\n",
      "[ True False False  True False False False  True  True False False False\n",
      " False False  True False False  True False False  True  True False False\n",
      " False False  True False False False  True False False  True  True False\n",
      "  True False False  True False  True  True False False  True False  True\n",
      " False False  True  True False  True  True  True  True  True False False\n",
      "  True False False  True False False  True  True  True  True  True False\n",
      " False False  True  True False False False False  True False  True  True\n",
      " False False False  True  True  True False False  True False False  True\n",
      " False False False False  True False  True  True False False  True  True\n",
      "  True False  True False False  True False False False  True  True False\n",
      " False  True False  True  True False  True False  True False False False\n",
      "  True  True  True False False  True False False  True False False False\n",
      " False  True False  True  True  True  True False False False  True False\n",
      "  True False False False False False  True  True  True False  True  True\n",
      " False  True  True  True  True False False False False False  True False\n",
      " False False False False False False  True False False  True  True  True\n",
      " False  True False False  True False False False False False False  True\n",
      "  True False  True  True  True False False False False  True False False\n",
      " False False  True  True False  True False  True False False False  True\n",
      "  True  True False  True False  True False  True False  True False False\n",
      "  True  True False False  True False False  True  True False  True False\n",
      "  True  True False False  True False False False  True False False  True\n",
      " False  True False False False  True  True False  True False False False\n",
      " False False  True  True  True False  True False  True False  True False\n",
      "  True  True False False  True  True  True False  True  True False False\n",
      "  True False False False False False  True False  True False False  True\n",
      " False False False  True False  True False False  True  True False False\n",
      " False  True  True  True False False  True  True  True  True False False\n",
      "  True  True  True False False False False  True  True  True  True  True\n",
      "  True  True False  True  True False False False  True  True  True False\n",
      " False False False False False False False  True  True  True False  True\n",
      "  True False False  True False False False False False False False False\n",
      "  True False False  True  True  True  True  True False False  True False\n",
      "  True  True  True  True False False  True False  True False False False\n",
      " False  True False  True  True  True  True  True False False False  True\n",
      " False False  True  True  True False False  True  True False False False\n",
      " False False False False]\n"
     ]
    }
   ],
   "source": [
    "match = 0\n",
    "total = 0\n",
    "y_pred = [0 for i in range(len(y_test))]\n",
    "for test_point_index, test_point in enumerate(X_test):\n",
    "    distances_dict = Counter()\n",
    "    for index, train_point in enumerate(X_train):\n",
    "        distances_dict[index] = np.sum(np.square(test_point - train_point))\n",
    "    \n",
    "    fractions = [0 for _ in range(num_classes)]\n",
    "    for i, c in enumerate(classes):\n",
    "        K = k_classes[i]\n",
    "        \n",
    "        class_count = Counter()\n",
    "        for point_index, point in distances_dict.most_common()[-K:]:\n",
    "            class_count[y_train[point_index]] += 1\n",
    "\n",
    "        num_c = class_count[c]\n",
    "        t = sum(class_count.values())\n",
    "        fractions[i] = num_c / t\n",
    "        \n",
    "    max_fraction = fractions[0]\n",
    "    labelIdx = 0\n",
    "    for i, fraction in enumerate(fractions):\n",
    "        if fraction > max_fraction:\n",
    "            max_fraction = fraction\n",
    "            labelIdx = i\n",
    "    \n",
    "    label = classes[labelIdx]\n",
    "    y_pred[test_point_index] = label\n",
    "    \n",
    "    if label == y_test[test_point_index]:\n",
    "        match += 1\n",
    "    total += 1\n",
    "    \n",
    "accuracy = match / total\n",
    "print(accuracy)\n",
    "print(y_pred == y_test)"
   ]
  },
  {
   "cell_type": "code",
   "execution_count": 82,
   "id": "d22d7f2f",
   "metadata": {},
   "outputs": [
    {
     "data": {
      "text/plain": [
       "40"
      ]
     },
     "execution_count": 82,
     "metadata": {},
     "output_type": "execute_result"
    }
   ],
   "source": [
    "len(class_partitions[6])"
   ]
  }
 ],
 "metadata": {
  "kernelspec": {
   "display_name": "Python 3 (ipykernel)",
   "language": "python",
   "name": "python3"
  },
  "language_info": {
   "codemirror_mode": {
    "name": "ipython",
    "version": 3
   },
   "file_extension": ".py",
   "mimetype": "text/x-python",
   "name": "python",
   "nbconvert_exporter": "python",
   "pygments_lexer": "ipython3",
   "version": "3.10.6"
  }
 },
 "nbformat": 4,
 "nbformat_minor": 5
}
