{
 "cells": [
  {
   "cell_type": "code",
   "execution_count": 10,
   "id": "a948c998",
   "metadata": {},
   "outputs": [],
   "source": [
    "import numpy as np\n",
    "import pandas as pd\n",
    "import matplotlib.pyplot as plt\n",
    "from sklearn.model_selection import train_test_split\n",
    "from collections import Counter"
   ]
  },
  {
   "cell_type": "code",
   "execution_count": 11,
   "id": "7c0c59b3",
   "metadata": {},
   "outputs": [],
   "source": [
    "mobiles = pd.read_csv(\"./train.csv\")"
   ]
  },
  {
   "cell_type": "code",
   "execution_count": 12,
   "id": "99f624e2",
   "metadata": {},
   "outputs": [],
   "source": [
    "X = mobiles.iloc[1:,0:20].values\n",
    "y = mobiles.iloc[1:,20].values"
   ]
  },
  {
   "cell_type": "code",
   "execution_count": 13,
   "id": "df4da00e",
   "metadata": {},
   "outputs": [],
   "source": [
    "# X = X.T\n",
    "for i, x in enumerate(X):\n",
    "    minVal = np.min(x)\n",
    "    norm_x = np.subtract(x, minVal)\n",
    "    maxVal = np.max(norm_x)\n",
    "    norm_x = np.divide(norm_x, maxVal)\n",
    "    X[i] = norm_x\n",
    "# X = X.T\n",
    "# print(X[0])"
   ]
  },
  {
   "cell_type": "code",
   "execution_count": 14,
   "id": "8faa8d5d",
   "metadata": {},
   "outputs": [],
   "source": [
    "X_train, X_test, y_train, y_test = train_test_split(X, y, test_size=0.2, random_state=0)"
   ]
  },
  {
   "cell_type": "code",
   "execution_count": 15,
   "id": "06978a78",
   "metadata": {},
   "outputs": [
    {
     "name": "stdout",
     "output_type": "stream",
     "text": [
      "0.5625\n",
      "0.565\n",
      "0.585\n",
      "0.55\n",
      "0.59\n",
      "0.565\n",
      "0.575\n",
      "0.5675\n"
     ]
    }
   ],
   "source": [
    "K_VALUES = [1,3,5,7,9,11,13,15]\n",
    "K_ACCURACY = []\n",
    "for K in K_VALUES:\n",
    "    match = 0\n",
    "    total = 0\n",
    "    for test_point_index,test_point in enumerate(X_test):\n",
    "        # print(test_point)\n",
    "        # print(X_test[test_point_index])\n",
    "        distances_dict = Counter()\n",
    "        class_count = Counter()\n",
    "\n",
    "        for index,train_point in enumerate(X_train):\n",
    "            distances_dict[index] = np.sum(np.square(test_point - train_point))\n",
    "\n",
    "        for point_index,point in distances_dict.most_common()[-K:]:\n",
    "            # print(point_index,point)\n",
    "            class_count[y_train[point_index]] += 1\n",
    "        # print(\"------\")\n",
    "        # print(class_count.most_common(1)[0][0],y_test[test_point_index])\n",
    "        if class_count.most_common(1)[0][0] == y_test[test_point_index]:\n",
    "            match += 1\n",
    "        total += 1\n",
    "    print(match/total)\n",
    "    K_ACCURACY.append(match/total)"
   ]
  },
  {
   "cell_type": "code",
   "execution_count": 16,
   "id": "2d1d62a7",
   "metadata": {},
   "outputs": [
    {
     "data": {
      "image/png": "[encoded data removed]",
      "text/plain": [
       "<Figure size 432x288 with 1 Axes>"
      ]
     },
     "metadata": {
      "needs_background": "light"
     },
     "output_type": "display_data"
    }
   ],
   "source": [
    "plt.xlabel(\"K value\")\n",
    "plt.ylabel(\"Accuracy\")\n",
    "plt.plot(K_VALUES, K_ACCURACY)\n",
    "plt.show()"
   ]
  }
 ],
 "metadata": {
  "kernelspec": {
   "display_name": "Python 3 (ipykernel)",
   "language": "python",
   "name": "python3"
  },
  "language_info": {
   "codemirror_mode": {
    "name": "ipython",
    "version": 3
   },
   "file_extension": ".py",
   "mimetype": "text/x-python",
   "name": "python",
   "nbconvert_exporter": "python",
   "pygments_lexer": "ipython3",
   "version": "3.10.6"
  }
 },
 "nbformat": 4,
 "nbformat_minor": 5
}
