{
 "cells": [
  {
   "cell_type": "code",
   "execution_count": 1,
   "id": "a948c998",
   "metadata": {},
   "outputs": [],
   "source": [
    "import numpy as np\n",
    "import pandas as pd\n",
    "import matplotlib.pyplot as plt\n",
    "from sklearn.model_selection import train_test_split\n",
    "from collections import Counter"
   ]
  },
  {
   "cell_type": "code",
   "execution_count": 2,
   "id": "7c0c59b3",
   "metadata": {},
   "outputs": [],
   "source": [
    "dataset = pd.read_csv(\"./train.csv\")"
   ]
  },
  {
   "cell_type": "code",
   "execution_count": 3,
   "id": "99f624e2",
   "metadata": {},
   "outputs": [],
   "source": [
    "X = dataset.iloc[1:, 0:20].values\n",
    "y = dataset.iloc[1:, 20].values"
   ]
  },
  {
   "cell_type": "code",
   "execution_count": 4,
   "id": "df4da00e",
   "metadata": {},
   "outputs": [],
   "source": [
    "# Normalization\n",
    "for i, x in enumerate(X):\n",
    "    minVal = np.min(x)\n",
    "    norm_x = np.subtract(x, minVal)\n",
    "    maxVal = np.max(norm_x)\n",
    "    norm_x = np.divide(norm_x, maxVal)\n",
    "    X[i] = norm_x"
   ]
  },
  {
   "cell_type": "code",
   "execution_count": 5,
   "id": "8faa8d5d",
   "metadata": {},
   "outputs": [],
   "source": [
    "X_train, X_test, y_train, y_test = train_test_split(X, y, test_size=0.2, random_state=0)"
   ]
  },
  {
   "cell_type": "code",
   "execution_count": 6,
   "id": "06978a78",
   "metadata": {},
   "outputs": [],
   "source": [
    "K_VALUES = [(2 * i + 1) for i in range(1, 10)]\n",
    "K_ACCURACY = []\n",
    "for K in K_VALUES:\n",
    "    match = 0\n",
    "    total = 0\n",
    "    for test_point_index, test_point in enumerate(X_test):\n",
    "        distances_dict = Counter()\n",
    "        class_count = Counter()\n",
    "\n",
    "        for index, train_point in enumerate(X_train):\n",
    "            distances_dict[index] = np.sum(np.square(test_point - train_point))\n",
    "\n",
    "        for point_index, point in distances_dict.most_common()[-K:]:\n",
    "            class_count[y_train[point_index]] += 1\n",
    "        \n",
    "        if class_count.most_common(1)[0][0] == y_test[test_point_index]:\n",
    "            match += 1\n",
    "        total += 1\n",
    "    K_ACCURACY.append(match / total)"
   ]
  },
  {
   "cell_type": "code",
   "execution_count": 7,
   "id": "d278e4f3",
   "metadata": {},
   "outputs": [
    {
     "data": {
      "text/html": [
       "<div>\n",
       "<style scoped>\n",
       "    .dataframe tbody tr th:only-of-type {\n",
       "        vertical-align: middle;\n",
       "    }\n",
       "\n",
       "    .dataframe tbody tr th {\n",
       "        vertical-align: top;\n",
       "    }\n",
       "\n",
       "    .dataframe thead th {\n",
       "        text-align: right;\n",
       "    }\n",
       "</style>\n",
       "<table border=\"1\" class=\"dataframe\">\n",
       "  <thead>\n",
       "    <tr style=\"text-align: right;\">\n",
       "      <th></th>\n",
       "      <th>K</th>\n",
       "      <th>Accuracy</th>\n",
       "    </tr>\n",
       "  </thead>\n",
       "  <tbody>\n",
       "    <tr>\n",
       "      <th>0</th>\n",
       "      <td>3</td>\n",
       "      <td>0.5650</td>\n",
       "    </tr>\n",
       "    <tr>\n",
       "      <th>1</th>\n",
       "      <td>5</td>\n",
       "      <td>0.5850</td>\n",
       "    </tr>\n",
       "    <tr>\n",
       "      <th>2</th>\n",
       "      <td>7</td>\n",
       "      <td>0.5500</td>\n",
       "    </tr>\n",
       "    <tr>\n",
       "      <th>3</th>\n",
       "      <td>9</td>\n",
       "      <td>0.5900</td>\n",
       "    </tr>\n",
       "    <tr>\n",
       "      <th>4</th>\n",
       "      <td>11</td>\n",
       "      <td>0.5650</td>\n",
       "    </tr>\n",
       "    <tr>\n",
       "      <th>5</th>\n",
       "      <td>13</td>\n",
       "      <td>0.5750</td>\n",
       "    </tr>\n",
       "    <tr>\n",
       "      <th>6</th>\n",
       "      <td>15</td>\n",
       "      <td>0.5675</td>\n",
       "    </tr>\n",
       "    <tr>\n",
       "      <th>7</th>\n",
       "      <td>17</td>\n",
       "      <td>0.5700</td>\n",
       "    </tr>\n",
       "    <tr>\n",
       "      <th>8</th>\n",
       "      <td>19</td>\n",
       "      <td>0.5800</td>\n",
       "    </tr>\n",
       "  </tbody>\n",
       "</table>\n",
       "</div>"
      ],
      "text/plain": [
       "    K  Accuracy\n",
       "0   3    0.5650\n",
       "1   5    0.5850\n",
       "2   7    0.5500\n",
       "3   9    0.5900\n",
       "4  11    0.5650\n",
       "5  13    0.5750\n",
       "6  15    0.5675\n",
       "7  17    0.5700\n",
       "8  19    0.5800"
      ]
     },
     "execution_count": 7,
     "metadata": {},
     "output_type": "execute_result"
    }
   ],
   "source": [
    "df = []\n",
    "for i, value in enumerate(K_VALUES):\n",
    "    df.append([value, K_ACCURACY[i]])\n",
    "df = pd.DataFrame(df)\n",
    "df.columns = ['K', 'Accuracy']\n",
    "df"
   ]
  },
  {
   "cell_type": "code",
   "execution_count": 8,
   "id": "2d1d62a7",
   "metadata": {},
   "outputs": [
    {
     "data": {
      "image/png": "[encoded data removed]",
      "text/plain": [
       "<Figure size 432x288 with 1 Axes>"
      ]
     },
     "metadata": {
      "needs_background": "light"
     },
     "output_type": "display_data"
    }
   ],
   "source": [
    "plt.xlabel(\"K value\")\n",
    "plt.ylabel(\"Accuracy\")\n",
    "plt.plot(K_VALUES, K_ACCURACY)\n",
    "plt.grid()\n",
    "plt.show()"
   ]
  },
  {
   "cell_type": "code",
   "execution_count": null,
   "id": "ced1390d",
   "metadata": {},
   "outputs": [],
   "source": []
  }
 ],
 "metadata": {
  "kernelspec": {
   "display_name": "Python 3 (ipykernel)",
   "language": "python",
   "name": "python3"
  },
  "language_info": {
   "codemirror_mode": {
    "name": "ipython",
    "version": 3
   },
   "file_extension": ".py",
   "mimetype": "text/x-python",
   "name": "python",
   "nbconvert_exporter": "python",
   "pygments_lexer": "ipython3",
   "version": "3.9.13"
  }
 },
 "nbformat": 4,
 "nbformat_minor": 5
}
