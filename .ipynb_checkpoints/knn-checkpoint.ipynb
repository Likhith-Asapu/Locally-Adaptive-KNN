{
 "cells": [
  {
   "cell_type": "code",
   "execution_count": 6,
   "id": "f834eba0",
   "metadata": {},
   "outputs": [],
   "source": [
    "import numpy as np\n",
    "import pandas as pd\n",
    "from sklearn.model_selection import train_test_split"
   ]
  },
  {
   "cell_type": "code",
   "execution_count": 10,
   "id": "71b0ebca",
   "metadata": {},
   "outputs": [],
   "source": [
    "#Load data\n",
    "iris = pd.read_csv('train.csv')\n",
    "#data cleaning\n",
    "#iris.drop(columns=\"Id\",inplace=True)"
   ]
  },
  {
   "cell_type": "code",
   "execution_count": 11,
   "id": "e644c363",
   "metadata": {},
   "outputs": [],
   "source": [
    "#features and labels\n",
    "X=iris.iloc[:,0:20].values\n",
    "y=iris.iloc[:,20].values\n",
    "\n",
    "#Train and Test split\n",
    "X_train,X_test,y_train,y_test=train_test_split(X,y,test_size=0.2,random_state=0)"
   ]
  },
  {
   "cell_type": "code",
   "execution_count": 15,
   "id": "b9e27403",
   "metadata": {},
   "outputs": [
    {
     "name": "stdout",
     "output_type": "stream",
     "text": [
      "0.9075\n",
      "0.9375\n",
      "0.9275\n",
      "0.9525\n",
      "0.9425\n",
      "0.95\n",
      "0.9525\n",
      "0.955\n"
     ]
    }
   ],
   "source": [
    "from collections import Counter\n",
    "K_VALUES = [1,3,5,7,9,11,13,15]\n",
    "K_ACCURACY = []\n",
    "for K in K_VALUES:\n",
    "    match = 0\n",
    "    total = 0\n",
    "    for test_point_index,test_point in enumerate(X_test):\n",
    "        #print(test_point)\n",
    "        #print(X_test[test_point_index])\n",
    "        distances_dict = Counter()\n",
    "        class_count = Counter()\n",
    "\n",
    "        for index,train_point in enumerate(X_train):\n",
    "            distances_dict[index] = np.sum(np.square(test_point - train_point))\n",
    "\n",
    "        for point_index,point in distances_dict.most_common()[-K:]:\n",
    "            #print(point_index,point)\n",
    "            class_count[y_train[point_index]] += 1\n",
    "        #print(\"------\")\n",
    "        #print(class_count.most_common(1)[0][0],y_test[test_point_index])\n",
    "        if class_count.most_common(1)[0][0] == y_test[test_point_index]:\n",
    "            match += 1\n",
    "        total += 1\n",
    "    print(match/total)\n",
    "    K_ACCURACY.append(match/total)"
   ]
  },
  {
   "cell_type": "code",
   "execution_count": 16,
   "id": "8fa720f7",
   "metadata": {},
   "outputs": [
    {
     "data": {
      "image/png": "[encoded data removed]",
      "text/plain": [
       "<Figure size 432x288 with 1 Axes>"
      ]
     },
     "metadata": {
      "needs_background": "light"
     },
     "output_type": "display_data"
    }
   ],
   "source": [
    "import matplotlib.pyplot as plt\n",
    "plt.xlabel(\"K value\")\n",
    "plt.ylabel(\"Accuracy\")\n",
    "plt.plot(K_VALUES, K_ACCURACY)\n",
    "plt.show()"
   ]
  }
 ],
 "metadata": {
  "kernelspec": {
   "display_name": "Python 3 (ipykernel)",
   "language": "python",
   "name": "python3"
  },
  "language_info": {
   "codemirror_mode": {
    "name": "ipython",
    "version": 3
   },
   "file_extension": ".py",
   "mimetype": "text/x-python",
   "name": "python",
   "nbconvert_exporter": "python",
   "pygments_lexer": "ipython3",
   "version": "3.9.13"
  }
 },
 "nbformat": 4,
 "nbformat_minor": 5
}
