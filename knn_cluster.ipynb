{
 "cells": [
  {
   "cell_type": "code",
   "execution_count": 16,
   "id": "aefc564a",
   "metadata": {},
   "outputs": [],
   "source": [
    "import numpy as np\n",
    "import pandas as pd\n",
    "import matplotlib.pyplot as plt\n",
    "import random\n",
    "from sklearn.model_selection import train_test_split\n",
    "from collections import Counter"
   ]
  },
  {
   "cell_type": "code",
   "execution_count": 17,
   "id": "c62c1061",
   "metadata": {},
   "outputs": [
    {
     "data": {
      "text/plain": [
       "battery_power      int64\n",
       "blue               int64\n",
       "clock_speed      float64\n",
       "dual_sim           int64\n",
       "fc                 int64\n",
       "four_g             int64\n",
       "int_memory         int64\n",
       "m_dep            float64\n",
       "mobile_wt          int64\n",
       "n_cores            int64\n",
       "pc                 int64\n",
       "px_height          int64\n",
       "px_width           int64\n",
       "ram                int64\n",
       "sc_h               int64\n",
       "sc_w               int64\n",
       "talk_time          int64\n",
       "three_g            int64\n",
       "touch_screen       int64\n",
       "wifi               int64\n",
       "price_range        int64\n",
       "dtype: object"
      ]
     },
     "execution_count": 17,
     "metadata": {},
     "output_type": "execute_result"
    }
   ],
   "source": [
    "# Load data\n",
    "dataset = pd.read_csv('train.csv')\n",
    "dataset.dtypes"
   ]
  },
  {
   "cell_type": "code",
   "execution_count": 18,
   "id": "e7e3ab44",
   "metadata": {},
   "outputs": [],
   "source": [
    "# features and labels\n",
    "X = dataset.iloc[:, 0:20].values\n",
    "y_actual = dataset.iloc[:, 20].values\n",
    "\n",
    "# Row normalization\n",
    "# for i, x in enumerate(X):\n",
    "#     minVal = np.min(x)\n",
    "#     norm_x = x - minVal\n",
    "#     maxVal = np.max(norm_x)\n",
    "#     norm_x /= maxVal\n",
    "#     X[i] = norm_x\n",
    "    \n",
    "# Column normalization\n",
    "for i in range(X.shape[1]):\n",
    "    x = X[:, i]\n",
    "    minVal = np.min(x)\n",
    "    norm_x = x - minVal\n",
    "    maxVal = np.max(norm_x)\n",
    "    norm_x /= maxVal\n",
    "    X[:, i] = norm_x"
   ]
  },
  {
   "cell_type": "markdown",
   "id": "52fa4004",
   "metadata": {},
   "source": [
    "## Clustering"
   ]
  },
  {
   "cell_type": "code",
   "execution_count": 19,
   "id": "2931767b",
   "metadata": {},
   "outputs": [
    {
     "data": {
      "text/plain": [
       "array([[2.20506845e-01, 2.91290417e-04, 2.62161375e-04, 2.91290417e-04,\n",
       "        1.16516167e-03, 0.00000000e+00, 1.86425867e-02, 1.45645208e-04,\n",
       "        4.57325954e-02, 2.03903292e-03, 1.45645208e-03, 3.32071075e-02,\n",
       "        2.38566851e-01, 1.00000000e+00, 1.74774250e-03, 1.45645208e-03,\n",
       "        2.91290417e-03, 2.91290417e-04, 2.91290417e-04, 0.00000000e+00],\n",
       "       [6.46164978e-01, 0.00000000e+00, 1.80897250e-04, 0.00000000e+00,\n",
       "        3.25615051e-03, 3.61794501e-04, 2.09840810e-02, 2.53256151e-04,\n",
       "        5.82489146e-02, 2.53256151e-03, 3.61794501e-03, 8.35745297e-02,\n",
       "        6.04558611e-01, 1.00000000e+00, 3.25615051e-03, 1.08538350e-03,\n",
       "        2.53256151e-03, 3.61794501e-04, 3.61794501e-04, 3.61794501e-04],\n",
       "       [9.29291330e-01, 5.27676640e-05, 9.49817952e-04, 5.27676640e-05,\n",
       "        6.38488734e-03, 5.27676640e-05, 1.27170070e-02, 0.00000000e+00,\n",
       "        9.92559759e-02, 5.27676640e-05, 6.91256398e-03, 1.57828083e-01,\n",
       "        2.77610680e-01, 1.00000000e+00, 6.91256398e-03, 4.80185742e-03,\n",
       "        1.00786238e-02, 5.27676640e-05, 5.27676640e-05, 5.27676640e-05],\n",
       "       [5.34534535e-01, 0.00000000e+00, 1.00100100e-03, 5.00500501e-04,\n",
       "        5.00500501e-04, 5.00500501e-04, 1.85185185e-02, 4.50450450e-04,\n",
       "        9.20920921e-02, 3.50350350e-03, 6.50650651e-03, 9.30930931e-02,\n",
       "        1.00000000e+00, 9.02402402e-01, 2.50250250e-03, 2.00200200e-03,\n",
       "        3.50350350e-03, 5.00500501e-04, 0.00000000e+00, 0.00000000e+00]])"
      ]
     },
     "execution_count": 19,
     "metadata": {},
     "output_type": "execute_result"
    }
   ],
   "source": [
    "# Find clusters using K - means algorithm\n",
    "k = 4\n",
    "y = np.array([0 for _ in range(X.shape[0])])\n",
    "\n",
    "rand_idxs = random.sample(range(0, X.shape[0]), k)\n",
    "means = np.array(X[rand_idxs])\n",
    "means"
   ]
  },
  {
   "cell_type": "code",
   "execution_count": 20,
   "id": "6abffa14",
   "metadata": {},
   "outputs": [
    {
     "data": {
      "text/plain": [
       "0.154"
      ]
     },
     "execution_count": 20,
     "metadata": {},
     "output_type": "execute_result"
    }
   ],
   "source": [
    "# clusters = np.array([np.array([]) for _ in range(k)])\n",
    "prev_means = np.array([])\n",
    "\n",
    "while not np.array_equal(prev_means, means):\n",
    "    clusters = [[mean] for mean in means]\n",
    "    for point_idx, point in enumerate(X):\n",
    "        distances = np.array([-1 for _ in range(k)])\n",
    "\n",
    "        for index, mean in enumerate(means):\n",
    "            distances[index] = np.sum(np.square(point - mean))\n",
    "        \n",
    "        min_idx = np.argmin(distances)\n",
    "        # clusters[min_idx] = np.append(clusters[min_idx], [point], axis = 0)\n",
    "        clusters[min_idx].append(point)\n",
    "        y[point_idx] = min_idx\n",
    "    \n",
    "    prev_means = means[:]\n",
    "    # clusters = np.array(clusters)\n",
    "    for idx, cluster in enumerate(clusters):\n",
    "        means[idx] = np.mean(cluster)\n",
    "\n",
    "match = 0\n",
    "for a, b in zip(y, y_actual):\n",
    "    if a == b:\n",
    "        match += 1\n",
    "match / len(y)"
   ]
  },
  {
   "cell_type": "code",
   "execution_count": 21,
   "id": "f45387d0",
   "metadata": {},
   "outputs": [
    {
     "data": {
      "text/plain": [
       "array([0, 1, 2, 3])"
      ]
     },
     "execution_count": 21,
     "metadata": {},
     "output_type": "execute_result"
    }
   ],
   "source": [
    "# Train and Test split\n",
    "X_train, X_test, y_train, y_test = train_test_split(X, y, test_size=0.2, random_state=0)\n",
    "\n",
    "# Form classes or set distinct labels for clusters\n",
    "# classes = np.array([i for i in range(k)])\n",
    "# num_classes = k\n",
    "# classes\n",
    "\n",
    "# Get distinct classes\n",
    "classes = np.unique(y)\n",
    "num_classes = len(classes)\n",
    "classes"
   ]
  },
  {
   "cell_type": "markdown",
   "id": "cd96f1c8",
   "metadata": {},
   "source": [
    "## Training"
   ]
  },
  {
   "cell_type": "code",
   "execution_count": 22,
   "id": "6cfff9a1",
   "metadata": {},
   "outputs": [],
   "source": [
    "# Partition dataset based on class\n",
    "class_partitions = []\n",
    "for c in classes:\n",
    "    partition = X_train[y_train == c]\n",
    "    # partition = dataset.loc[dataset['price_range'] == 0].iloc[:, :-1].values\n",
    "    class_partitions.append(partition)"
   ]
  },
  {
   "cell_type": "code",
   "execution_count": 23,
   "id": "e94ed309",
   "metadata": {},
   "outputs": [
    {
     "data": {
      "text/plain": [
       "[15, 13, 3, 3]"
      ]
     },
     "execution_count": 23,
     "metadata": {},
     "output_type": "execute_result"
    }
   ],
   "source": [
    "K_VALUES = [3,5,7,9,11,13,15]\n",
    "\n",
    "# Finding best k per class\n",
    "k_classes = [0 for _ in range(num_classes)]\n",
    "for i in range(num_classes):\n",
    "    data = class_partitions[i]\n",
    "    label = classes[i]\n",
    "    \n",
    "    K_values_train = Counter()\n",
    "    match = 0\n",
    "    for test_point_index, test_point in enumerate(data):\n",
    "        distances_dict = Counter()\n",
    "        class_count = Counter()\n",
    "\n",
    "        for index, train_point in enumerate(X_train):\n",
    "            distances_dict[index] = np.sum(np.square(test_point - train_point))\n",
    "\n",
    "        matched_k_list = []\n",
    "        for K in K_VALUES:\n",
    "            for point_index, point in distances_dict.most_common()[-(K + 1):-1]:\n",
    "                class_count[y_train[point_index]] += 1\n",
    "\n",
    "            if class_count.most_common(1)[0][0] == y_train[test_point_index]:\n",
    "                matched_k_list.append(K)\n",
    "        K_values_train[test_point_index] = matched_k_list\n",
    "        \n",
    "    # Taking the first best k value in case of ties\n",
    "    k_classes[i] = K_values_train.most_common(1)[0][1][0]\n",
    "    \n",
    "k_classes"
   ]
  },
  {
   "cell_type": "markdown",
   "id": "a44eb13a",
   "metadata": {},
   "source": [
    "## Testing"
   ]
  },
  {
   "cell_type": "code",
   "execution_count": 24,
   "id": "23046db7",
   "metadata": {},
   "outputs": [
    {
     "name": "stdout",
     "output_type": "stream",
     "text": [
      "0.9675\n",
      "[ True  True  True  True  True  True False  True  True  True  True  True\n",
      "  True  True  True  True  True  True  True  True  True  True  True  True\n",
      "  True  True  True  True  True  True  True  True  True  True  True  True\n",
      "  True  True  True  True  True  True  True  True  True  True  True  True\n",
      "  True  True  True  True False  True False  True  True  True  True  True\n",
      "  True  True  True  True  True  True  True  True  True  True  True  True\n",
      " False  True  True  True  True  True  True  True  True  True  True  True\n",
      "  True  True  True  True  True  True  True  True  True  True  True  True\n",
      "  True  True  True  True  True  True  True  True  True  True  True  True\n",
      "  True  True  True  True  True  True  True  True  True  True False  True\n",
      "  True  True  True  True  True  True  True  True  True  True  True  True\n",
      "  True  True  True  True  True  True  True  True  True  True  True  True\n",
      "  True  True  True  True  True  True  True  True  True  True  True  True\n",
      "  True  True  True  True  True  True  True  True  True  True  True  True\n",
      "  True  True  True  True  True  True  True  True  True  True  True  True\n",
      "  True  True  True  True  True  True  True  True  True  True  True  True\n",
      "  True  True  True  True False  True  True  True  True  True  True  True\n",
      "  True  True  True  True  True  True  True  True  True  True  True  True\n",
      "  True  True  True  True  True  True  True  True  True  True  True  True\n",
      "  True  True  True  True  True  True  True  True  True  True  True False\n",
      "  True  True  True  True  True  True  True  True  True  True  True  True\n",
      "  True  True  True  True  True  True  True  True  True  True False  True\n",
      "  True  True  True  True  True  True False  True  True  True  True  True\n",
      "  True  True  True  True  True  True  True  True False  True  True  True\n",
      "  True  True  True  True  True  True  True  True  True  True  True  True\n",
      "  True  True  True False  True  True  True  True  True  True  True  True\n",
      "  True  True  True  True  True  True  True  True  True  True  True  True\n",
      "  True  True  True  True  True  True  True  True  True  True  True  True\n",
      "  True  True  True  True  True  True  True  True  True  True  True  True\n",
      "  True  True  True  True  True  True  True  True  True  True  True False\n",
      "  True  True  True  True  True  True  True  True  True  True  True  True\n",
      "  True  True  True  True  True  True  True  True  True  True  True  True\n",
      "  True  True  True  True  True  True  True  True False  True  True  True\n",
      "  True  True  True  True]\n"
     ]
    }
   ],
   "source": [
    "match = 0\n",
    "total = 0\n",
    "y_pred = [0 for i in range(len(y_test))]\n",
    "for test_point_index, test_point in enumerate(X_test):\n",
    "    distances_dict = Counter()\n",
    "    for index, train_point in enumerate(X_train):\n",
    "        distances_dict[index] = np.sum(np.square(test_point - train_point))\n",
    "    \n",
    "    fractions = [0 for _ in range(num_classes)]\n",
    "    for i, c in enumerate(classes):\n",
    "        K = k_classes[i]\n",
    "        \n",
    "        class_count = Counter()\n",
    "        for point_index, point in distances_dict.most_common()[-K:]:\n",
    "            class_count[y_train[point_index]] += 1\n",
    "\n",
    "        num_c = class_count[c]\n",
    "        t = sum(class_count.values())\n",
    "        fractions[i] = num_c / t\n",
    "        \n",
    "    max_fraction = fractions[0]\n",
    "    labelIdx = 0\n",
    "    for i, fraction in enumerate(fractions):\n",
    "        if fraction > max_fraction:\n",
    "            max_fraction = fraction\n",
    "            labelIdx = i\n",
    "    \n",
    "    label = classes[labelIdx]\n",
    "    y_pred[test_point_index] = label\n",
    "    \n",
    "    if label == y_test[test_point_index]:\n",
    "        match += 1\n",
    "    total += 1\n",
    "    \n",
    "accuracy = match / total\n",
    "print(accuracy)\n",
    "print(y_pred == y_test)"
   ]
  }
 ],
 "metadata": {
  "kernelspec": {
   "display_name": "Python 3 (ipykernel)",
   "language": "python",
   "name": "python3"
  },
  "language_info": {
   "codemirror_mode": {
    "name": "ipython",
    "version": 3
   },
   "file_extension": ".py",
   "mimetype": "text/x-python",
   "name": "python",
   "nbconvert_exporter": "python",
   "pygments_lexer": "ipython3",
   "version": "3.10.6"
  }
 },
 "nbformat": 4,
 "nbformat_minor": 5
}
